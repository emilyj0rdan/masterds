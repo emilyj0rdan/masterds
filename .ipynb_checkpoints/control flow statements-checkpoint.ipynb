{
 "cells": [
  {
   "cell_type": "code",
   "execution_count": 4,
   "id": "9f44e3ee-d60b-41c9-af22-8e21a7b9ecef",
   "metadata": {},
   "outputs": [
    {
     "name": "stdout",
     "output_type": "stream",
     "text": [
      "Ten is greater than 5.\n",
      "hello\n"
     ]
    }
   ],
   "source": [
    "if 10>5:\n",
    "    print(\"Ten is greater than 5.\")\n",
    "elif \"A\" == \"B\":\n",
    "    print(\"equal\")\n",
    "print(\"hello\")"
   ]
  },
  {
   "cell_type": "code",
   "execution_count": 9,
   "id": "d8ef5d7f-2d3e-45e2-b43a-e0cfeb3abaa6",
   "metadata": {},
   "outputs": [
    {
     "name": "stdout",
     "output_type": "stream",
     "text": [
      "10 is greater than 5\n"
     ]
    }
   ],
   "source": [
    "a=10\n",
    "b=5\n",
    "\n",
    "if a>b:\n",
    "    print(f\"{a} is greater than {b}\")\n",
    "elif a==10:\n",
    "    print(\"a is ten\")"
   ]
  },
  {
   "cell_type": "code",
   "execution_count": 21,
   "id": "126e2e2c-f684-4ba0-9039-5a59020f10a8",
   "metadata": {},
   "outputs": [
    {
     "name": "stdin",
     "output_type": "stream",
     "text": [
      "Input a number 0\n"
     ]
    },
    {
     "name": "stdout",
     "output_type": "stream",
     "text": [
      "Zero\n"
     ]
    }
   ],
   "source": [
    "a=int(input(\"Enter a number\"))\n",
    "if a>0:\n",
    "    print(\"Positive\")\n",
    "elif a<0:\n",
    "    print(\"Negative\")\n",
    "else:\n",
    "    print(\"Zero\")"
   ]
  },
  {
   "cell_type": "code",
   "execution_count": 38,
   "id": "7a2a6829-fa7b-4c9f-ae72-0effaaed28bf",
   "metadata": {},
   "outputs": [
    {
     "name": "stdin",
     "output_type": "stream",
     "text": [
      "Enter age:  68\n"
     ]
    },
    {
     "name": "stdout",
     "output_type": "stream",
     "text": [
      "Senior\n"
     ]
    }
   ],
   "source": [
    "age=int(input(\"Enter age: \"))\n",
    "if age <0 or age>150:\n",
    "    print(\"Error\")\n",
    "elif age<13:\n",
    "    print(\"Child\")\n",
    "elif age <20:\n",
    "    print(\"Teen\")\n",
    "elif age <=65:\n",
    "    print(\"Adult\")\n",
    "else:\n",
    "    print(\"Senior\")"
   ]
  },
  {
   "cell_type": "code",
   "execution_count": 47,
   "id": "6ec86f14-854c-469a-a5a4-5f40aec86a33",
   "metadata": {},
   "outputs": [
    {
     "name": "stdin",
     "output_type": "stream",
     "text": [
      "Enter grade: 78\n"
     ]
    },
    {
     "name": "stdout",
     "output_type": "stream",
     "text": [
      "Your evaluation is C\n"
     ]
    }
   ],
   "source": [
    "grade=int(input(\"Enter grade:\"))\n",
    "if grade <0 or grade>100:\n",
    "    score=\"Error\"\n",
    "elif grade<60:\n",
    "    score=\"F\"\n",
    "elif grade <70:\n",
    "    score=\"D\"\n",
    "elif grade <80:\n",
    "    score=\"C\"\n",
    "elif grade <90:\n",
    "    score=\"B\"\n",
    "elif grade <=100:\n",
    "    score=\"A\"\n",
    "print(f\"Your evaluation is {score}\")"
   ]
  },
  {
   "cell_type": "code",
   "execution_count": 58,
   "id": "f20a0c4b-4576-4aa2-89b0-f7254e1d8fa5",
   "metadata": {},
   "outputs": [
    {
     "data": {
      "text/plain": [
       "False"
      ]
     },
     "execution_count": 58,
     "metadata": {},
     "output_type": "execute_result"
    }
   ],
   "source": [
    "def xor(a:bool,b:bool):\n",
    "    if (a or b) and not(a and b):\n",
    "        return True\n",
    "    else:\n",
    "        return False\n",
    "xor(False,False)"
   ]
  },
  {
   "cell_type": "code",
   "execution_count": 60,
   "id": "3aa41561-864e-4edd-9837-56ac4c71495a",
   "metadata": {},
   "outputs": [
    {
     "data": {
      "text/plain": [
       "True"
      ]
     },
     "execution_count": 60,
     "metadata": {},
     "output_type": "execute_result"
    }
   ],
   "source": [
    "def xor(a:bool,b:bool):\n",
    "    return a!=b\n",
    "xor(False,True)"
   ]
  },
  {
   "cell_type": "code",
   "execution_count": 61,
   "id": "af2c29f6-c610-4502-9950-f3da24e1f633",
   "metadata": {},
   "outputs": [
    {
     "name": "stdout",
     "output_type": "stream",
     "text": [
      "True\n"
     ]
    }
   ],
   "source": [
    "print(True!=False)"
   ]
  },
  {
   "cell_type": "code",
   "execution_count": null,
   "id": "240d8e9f-eadd-4028-b94a-78993ee7496b",
   "metadata": {},
   "outputs": [],
   "source": []
  }
 ],
 "metadata": {
  "kernelspec": {
   "display_name": "masterds",
   "language": "python",
   "name": "masterds"
  },
  "language_info": {
   "codemirror_mode": {
    "name": "ipython",
    "version": 3
   },
   "file_extension": ".py",
   "mimetype": "text/x-python",
   "name": "python",
   "nbconvert_exporter": "python",
   "pygments_lexer": "ipython3",
   "version": "3.11.11"
  }
 },
 "nbformat": 4,
 "nbformat_minor": 5
}
