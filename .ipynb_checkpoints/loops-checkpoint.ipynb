{
 "cells": [
  {
   "cell_type": "code",
   "execution_count": 1,
   "id": "497ada0a-3f01-4e84-bbd4-2c6d3d8bdb7b",
   "metadata": {},
   "outputs": [
    {
     "name": "stdout",
     "output_type": "stream",
     "text": [
      "0\n",
      "1\n",
      "2\n",
      "3\n",
      "4\n"
     ]
    }
   ],
   "source": [
    "for n in range(5):\n",
    "    print(n)"
   ]
  },
  {
   "cell_type": "code",
   "execution_count": 2,
   "id": "804f600b-db52-4746-a761-b7394ed6b399",
   "metadata": {},
   "outputs": [
    {
     "name": "stdout",
     "output_type": "stream",
     "text": [
      "0\n",
      "1\n",
      "2\n",
      "3\n",
      "4\n"
     ]
    }
   ],
   "source": [
    "counter = 0\n",
    "while counter < 5:\n",
    "    print(counter)\n",
    "    counter += 1 "
   ]
  },
  {
   "cell_type": "code",
   "execution_count": 4,
   "id": "1d763f13-1863-4102-b0be-36f52a42b69d",
   "metadata": {},
   "outputs": [
    {
     "data": {
      "text/plain": [
       "array([0, 1, 2, 3, 4])"
      ]
     },
     "execution_count": 4,
     "metadata": {},
     "output_type": "execute_result"
    }
   ],
   "source": [
    "import numpy as np\n",
    "np.arange(5)"
   ]
  },
  {
   "cell_type": "code",
   "execution_count": 1,
   "id": "01559e28-2814-4b34-855e-c3d85a7b24ca",
   "metadata": {},
   "outputs": [
    {
     "data": {
      "text/plain": [
       "[[1, 2, 3], [4, 5, 6]]"
      ]
     },
     "execution_count": 1,
     "metadata": {},
     "output_type": "execute_result"
    }
   ],
   "source": [
    "multi_dim_list=[\n",
    "    [1,2,3],\n",
    "    [4,5,6]\n",
    "]\n",
    "multi_dim_list"
   ]
  },
  {
   "cell_type": "code",
   "execution_count": 2,
   "id": "8a05b976-b32e-48c6-bba8-ffdd295c4bf4",
   "metadata": {},
   "outputs": [
    {
     "data": {
      "text/plain": [
       "list"
      ]
     },
     "execution_count": 2,
     "metadata": {},
     "output_type": "execute_result"
    }
   ],
   "source": [
    "type(multi_dim_list)"
   ]
  },
  {
   "cell_type": "code",
   "execution_count": 8,
   "id": "cf931aca-0bf7-4eef-9f14-cac152dea60f",
   "metadata": {},
   "outputs": [
    {
     "data": {
      "text/plain": [
       "5"
      ]
     },
     "execution_count": 8,
     "metadata": {},
     "output_type": "execute_result"
    }
   ],
   "source": [
    "multi_dim_list[1][1]"
   ]
  },
  {
   "cell_type": "code",
   "execution_count": 11,
   "id": "69483ccf-4d12-487e-9482-bc7c20e90d5c",
   "metadata": {},
   "outputs": [
    {
     "name": "stdout",
     "output_type": "stream",
     "text": [
      "1\n",
      "2\n",
      "3\n",
      "4\n",
      "5\n",
      "6\n"
     ]
    }
   ],
   "source": [
    "for i in [0,1]:\n",
    "    for j in [0,1,2]:\n",
    "        print(multi_dim_list[i][j])\n"
   ]
  },
  {
   "cell_type": "code",
   "execution_count": 6,
   "id": "6d337c96-f663-4de0-8cb2-5f978b2cdf3d",
   "metadata": {},
   "outputs": [
    {
     "name": "stdout",
     "output_type": "stream",
     "text": [
      "*\n",
      "*\n",
      "*\n",
      "\n",
      "\n",
      "*\n",
      "*\n",
      "*\n",
      "\n",
      "\n",
      "*\n",
      "*\n",
      "*\n",
      "\n",
      "\n"
     ]
    }
   ],
   "source": [
    "x=0\n",
    "while x <3:\n",
    "    y=0\n",
    "    while y<3:\n",
    "        print(\"*\")\n",
    "        y+=1\n",
    "    print(\"\\n\")\n",
    "    x+=1"
   ]
  },
  {
   "cell_type": "code",
   "execution_count": null,
   "id": "968f2b3a-53a2-48ef-bf83-9e8edc52343d",
   "metadata": {},
   "outputs": [],
   "source": [
    "# function that asks user to enter even number, ask question again if not even\n",
    "# keep asking to enter a number even if user enters a non-number"
   ]
  },
  {
   "cell_type": "code",
   "execution_count": 13,
   "id": "bd774e0c-c0fd-4092-95f5-a3e4de5f67eb",
   "metadata": {},
   "outputs": [
    {
     "name": "stdout",
     "output_type": "stream",
     "text": [
      "please enter a number\n"
     ]
    },
    {
     "name": "stdin",
     "output_type": "stream",
     "text": [
      " 1\n"
     ]
    },
    {
     "name": "stdout",
     "output_type": "stream",
     "text": [
      "please enter a number\n"
     ]
    },
    {
     "name": "stdin",
     "output_type": "stream",
     "text": [
      " 2\n"
     ]
    },
    {
     "name": "stdout",
     "output_type": "stream",
     "text": [
      "thanks!\n"
     ]
    }
   ],
   "source": [
    "a=1\n",
    "while a%2!=0:\n",
    "    print(\"please enter an even number\")\n",
    "    a=int(input())\n",
    "    if a%2==0:\n",
    "        print(\"thanks!\")"
   ]
  },
  {
   "cell_type": "code",
   "execution_count": 51,
   "id": "3f574b6a-8710-4257-ac51-a143d7b702bf",
   "metadata": {},
   "outputs": [
    {
     "name": "stdin",
     "output_type": "stream",
     "text": [
      "please enter an even number 2\n"
     ]
    },
    {
     "name": "stdout",
     "output_type": "stream",
     "text": [
      "thanks!\n"
     ]
    }
   ],
   "source": [
    "a=1\n",
    "while int(a)%2!=0:\n",
    "    a=input(\"please enter an even number\")\n",
    "    if a.isnumeric():\n",
    "        if int(a)%2==0:\n",
    "            print(\"thanks!\")\n",
    "        else:\n",
    "            print(\"this number is not even\")\n",
    "    else:\n",
    "        print(\"this is not a number at all\")\n",
    "        a=1"
   ]
  },
  {
   "cell_type": "code",
   "execution_count": 55,
   "id": "3625b0a5-f12c-4df9-a81b-7476e7256e22",
   "metadata": {},
   "outputs": [
    {
     "name": "stdin",
     "output_type": "stream",
     "text": [
      "enter an even number 3\n"
     ]
    },
    {
     "name": "stdout",
     "output_type": "stream",
     "text": [
      "Sorry, 3 is not an even number\n"
     ]
    },
    {
     "name": "stdin",
     "output_type": "stream",
     "text": [
      "enter an even number edv\n"
     ]
    },
    {
     "name": "stdout",
     "output_type": "stream",
     "text": [
      "edv is NOT a number\n"
     ]
    },
    {
     "name": "stdin",
     "output_type": "stream",
     "text": [
      "enter an even number 2\n"
     ]
    },
    {
     "name": "stdout",
     "output_type": "stream",
     "text": [
      "Thanks, 2 is an even number\n"
     ]
    }
   ],
   "source": [
    "can_exit=False\n",
    "\n",
    "while (not can_exit):\n",
    "    n=input(\"enter an even number\")\n",
    "    if n.isnumeric():\n",
    "        if int(n)%2==0:\n",
    "            print(f\"Thanks, {n} is an even number\")\n",
    "            can_exit=True\n",
    "        else:\n",
    "            print(f\"Sorry, {n} is not an even number\")\n",
    "    else:\n",
    "        print(f\"{n} is NOT a number\")"
   ]
  },
  {
   "cell_type": "code",
   "execution_count": null,
   "id": "cc8ec194-a23b-472a-96c4-047e21c81e53",
   "metadata": {},
   "outputs": [],
   "source": []
  }
 ],
 "metadata": {
  "kernelspec": {
   "display_name": "masterds",
   "language": "python",
   "name": "masterds"
  },
  "language_info": {
   "codemirror_mode": {
    "name": "ipython",
    "version": 3
   },
   "file_extension": ".py",
   "mimetype": "text/x-python",
   "name": "python",
   "nbconvert_exporter": "python",
   "pygments_lexer": "ipython3",
   "version": "3.11.11"
  }
 },
 "nbformat": 4,
 "nbformat_minor": 5
}
