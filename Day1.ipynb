{
 "cells": [
  {
   "cell_type": "code",
   "execution_count": 1,
   "id": "70e5ef5e-ca41-4312-8706-e69b8a338451",
   "metadata": {},
   "outputs": [
    {
     "data": {
      "text/plain": [
       "4"
      ]
     },
     "execution_count": 1,
     "metadata": {},
     "output_type": "execute_result"
    }
   ],
   "source": [
    "2+2"
   ]
  },
  {
   "cell_type": "code",
   "execution_count": 2,
   "id": "fcbc6bcb-5658-4f8a-8418-752efbec65c8",
   "metadata": {},
   "outputs": [
    {
     "name": "stdout",
     "output_type": "stream",
     "text": [
      "Ten is greater than 5\n"
     ]
    }
   ],
   "source": [
    "if 10>5:\n",
    "    print(\"Ten is greater than 5\")"
   ]
  },
  {
   "cell_type": "code",
   "execution_count": 12,
   "id": "ae6f943d-5e38-47a7-9888-74546b8743da",
   "metadata": {},
   "outputs": [
    {
     "data": {
      "text/plain": [
       "10"
      ]
     },
     "execution_count": 12,
     "metadata": {},
     "output_type": "execute_result"
    }
   ],
   "source": [
    "\"\"\"\n",
    "This function returns the sum of two numbers.\n",
    "a and b are the inputs.\n",
    "\"\"\"\n",
    "def sum(a,b):\n",
    "    result=a+b # calculate result\n",
    "    return result # return the result\n",
    "sum(4,6)"
   ]
  },
  {
   "cell_type": "code",
   "execution_count": 13,
   "id": "b93e3e1d-4867-4388-86ea-fc45750875b2",
   "metadata": {},
   "outputs": [],
   "source": [
    "age=30"
   ]
  },
  {
   "cell_type": "code",
   "execution_count": 14,
   "id": "edab0346-04a4-4e7e-9173-abf12eaf6078",
   "metadata": {},
   "outputs": [
    {
     "data": {
      "text/plain": [
       "90"
      ]
     },
     "execution_count": 14,
     "metadata": {},
     "output_type": "execute_result"
    }
   ],
   "source": [
    "age*3"
   ]
  },
  {
   "cell_type": "code",
   "execution_count": 15,
   "id": "b27b15a3-23f8-4561-bf0d-f148d2bf0371",
   "metadata": {},
   "outputs": [],
   "source": [
    "maxDistance=25\n",
    "temperature=20.5\n",
    "greeting=\"Hello!\"\n",
    "isRaining=False"
   ]
  },
  {
   "cell_type": "code",
   "execution_count": 18,
   "id": "66142643-944c-40c7-8aaa-7714fa67e83b",
   "metadata": {},
   "outputs": [
    {
     "data": {
      "text/plain": [
       "float"
      ]
     },
     "execution_count": 18,
     "metadata": {},
     "output_type": "execute_result"
    }
   ],
   "source": [
    "type(float(42))"
   ]
  },
  {
   "cell_type": "markdown",
   "id": "df36f83e-f377-4b7c-a3da-65f53bf28f45",
   "metadata": {},
   "source": [
    "# First paragraph\n",
    "## Second paragraph\n",
    "Bullet points\n",
    "-one\n",
    "-two\n",
    "-three\n",
    "[link] (https://www.google.com)"
   ]
  },
  {
   "cell_type": "code",
   "execution_count": 45,
   "id": "520ddb24-fc5c-4fe4-892a-8f96f64deed9",
   "metadata": {},
   "outputs": [
    {
     "name": "stdin",
     "output_type": "stream",
     "text": [
      "Enter x: 4\n",
      "Enter y: 6\n"
     ]
    },
    {
     "name": "stdout",
     "output_type": "stream",
     "text": [
      "Sum=10\n"
     ]
    }
   ],
   "source": [
    "x=input(\"Enter x:\")\n",
    "y=input(\"Enter y:\")\n",
    "z=str(int(x)+int(y))\n",
    "print(\"Sum=\" + z)"
   ]
  },
  {
   "cell_type": "code",
   "execution_count": 50,
   "id": "2f305fd8-6d03-464d-b778-7b395407d122",
   "metadata": {},
   "outputs": [
    {
     "name": "stdout",
     "output_type": "stream",
     "text": [
      "Is 1=5?\n",
      "False\n",
      "1\n",
      "2\n",
      "3\n"
     ]
    }
   ],
   "source": [
    "print(\"Is 1=5?\", 1==5,1,2,3,sep=\"\\n\") # \\t for tab, \\n for new line"
   ]
  },
  {
   "cell_type": "code",
   "execution_count": 58,
   "id": "32fdd79f-11d2-4418-bca3-947163608628",
   "metadata": {},
   "outputs": [
    {
     "name": "stdout",
     "output_type": "stream",
     "text": [
      "Hello\n",
      "\"Hello\"\n",
      "\n",
      "hi\n",
      "hello\n",
      "\n"
     ]
    }
   ],
   "source": [
    "print(\"Hello\")\n",
    "print('\"Hello\"')\n",
    "print(\n",
    "'''\n",
    "hi\n",
    "hello\n",
    "'''\n",
    ")"
   ]
  },
  {
   "cell_type": "code",
   "execution_count": 61,
   "id": "000242c1-965d-4496-a43d-8796bdb62188",
   "metadata": {},
   "outputs": [
    {
     "data": {
      "text/plain": [
       "'s a string'"
      ]
     },
     "execution_count": 61,
     "metadata": {},
     "output_type": "execute_result"
    }
   ],
   "source": [
    "s=\"This is a string\"\n",
    "s[3:10] # chars from 3 to 10\n",
    "s[:10] # first 10 chars\n",
    "s[10:] # string starting with 10th char\n",
    "s[:-10] # string minus last 10 chars\n",
    "s[-10:] # last 10 chars"
   ]
  },
  {
   "cell_type": "code",
   "execution_count": 65,
   "id": "24203a0d-cb32-4761-b406-d38e3b232177",
   "metadata": {},
   "outputs": [
    {
     "name": "stdout",
     "output_type": "stream",
     "text": [
      "the sum of 1 and 2 is 3\n"
     ]
    }
   ],
   "source": [
    "print(f\"the sum of {a} and {b} is {a+b}\")"
   ]
  },
  {
   "cell_type": "code",
   "execution_count": null,
   "id": "e617974c-5fdc-49f3-bc79-dcef42ab4a5d",
   "metadata": {},
   "outputs": [],
   "source": []
  }
 ],
 "metadata": {
  "kernelspec": {
   "display_name": "masterds",
   "language": "python",
   "name": "masterds"
  },
  "language_info": {
   "codemirror_mode": {
    "name": "ipython",
    "version": 3
   },
   "file_extension": ".py",
   "mimetype": "text/x-python",
   "name": "python",
   "nbconvert_exporter": "python",
   "pygments_lexer": "ipython3",
   "version": "3.11.11"
  }
 },
 "nbformat": 4,
 "nbformat_minor": 5
}
